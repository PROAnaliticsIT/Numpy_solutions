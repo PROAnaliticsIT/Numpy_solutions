import numpy as np
array=np.zeros(10)
print("Массив из 10 нулей:")
print(array)

